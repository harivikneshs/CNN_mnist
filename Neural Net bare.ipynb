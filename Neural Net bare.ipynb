{
 "cells": [
  {
   "cell_type": "code",
   "execution_count": 1,
   "metadata": {},
   "outputs": [],
   "source": [
    "import numpy as np"
   ]
  },
  {
   "cell_type": "code",
   "execution_count": 12,
   "metadata": {},
   "outputs": [
    {
     "data": {
      "text/plain": [
       "((8, 4), (8, 1), (4, 8), (9, 1))"
      ]
     },
     "execution_count": 12,
     "metadata": {},
     "output_type": "execute_result"
    }
   ],
   "source": [
    "x=np.array([[1,0,0,0],[1,0,0,1],[1,0,1,0],[1,0,1,1],[1,1,0,0],[1,1,0,1],[1,1,1,0],[1,1,1,1]])\n",
    "y=np.array([0,1,1,0,1,0,0,1]).reshape(8,1)\n",
    "#w1=np.random.rand(x.shape[1],2*x.shape[1])-[0.5]\n",
    "#w2=np.random.rand(2*x.shape[1]+1,1)-[0.5]\n",
    "x.shape, y.shape ,w1.shape, w2.shape"
   ]
  },
  {
   "cell_type": "code",
   "execution_count": 95,
   "metadata": {},
   "outputs": [],
   "source": [
    "def sig(x):\n",
    "    return 1/(1+np.exp(-x))\n",
    "\n",
    "def h(x,w1,w2,predict=False):\n",
    "    a1=np.matmul(x,w1)\n",
    "    o1=sig(a1)\n",
    "    o1=np.concatenate((np.ones((len(o1),1)),o1),axis=1)\n",
    "    a2=np.matmul(o1,w2)\n",
    "    o2=sig(a2)\n",
    "    if predict:\n",
    "        return o2\n",
    "    return a1,o1,a2,o2\n",
    "\n",
    "def backp(x,y,a1,o1,o2,w2):\n",
    "    d2=y-o2\n",
    "    del2=np.matmul(o1.T,d2)\n",
    "    oo1=o1[:,1:]\n",
    "    d1=np.dot(d2,w2[1:,:].T)*(sig(a1)*(1-sig(a1)))\n",
    "    del1=np.matmul(x.T,d1)\n",
    "    return del1,del2\n",
    "\n",
    "def cost(y,p):\n",
    "    c=(y-p)**2\n",
    "    return np.sum(c)"
   ]
  },
  {
   "cell_type": "code",
   "execution_count": 44,
   "metadata": {},
   "outputs": [
    {
     "data": {
      "text/plain": [
       "((4, 8), (9, 1))"
      ]
     },
     "execution_count": 44,
     "metadata": {},
     "output_type": "execute_result"
    }
   ],
   "source": [
    "#testing functions\n",
    "\n",
    "'''aa1,oo1,aa2,oo2=h(x,w1,w2)\n",
    "dl1,dl2=backp(y,oo1,oo2,w2)\n",
    "dl1.shape, dl2.shape'''"
   ]
  },
  {
   "cell_type": "code",
   "execution_count": 117,
   "metadata": {},
   "outputs": [],
   "source": [
    "def train(x,y,lr,n):\n",
    "    m=x.shape[0]\n",
    "    w1=0.1*np.random.rand(x.shape[1],2*x.shape[1])\n",
    "    w2=0.1*np.random.rand(2*x.shape[1]+1,1)\n",
    "    for i in range(n):\n",
    "        a1,o1,a2,o2=h(x,w1,w2)\n",
    "        del1,del2=backp(x,y,a1,o1,o2,w2)\n",
    "        w1=w1+(lr/m)*del1\n",
    "        w2=w2+(lr/m)*del2\n",
    "        if i%(n//10)==0:\n",
    "            print(cost(y,o2))\n",
    "    return w1,w2"
   ]
  },
  {
   "cell_type": "code",
   "execution_count": 119,
   "metadata": {},
   "outputs": [
    {
     "name": "stdout",
     "output_type": "stream",
     "text": [
      "2.031481543719061\n",
      "1.9999989309958333\n",
      "1.99999744570306\n",
      "1.9999934292059007\n",
      "1.9999766212562995\n",
      "1.9998258208890198\n",
      "0.14387797548213255\n",
      "6.662627694915668e-05\n",
      "1.3433907989133623e-05\n",
      "5.449555762982432e-06\n"
     ]
    },
    {
     "data": {
      "text/plain": [
       "array([[0., 0.],\n",
       "       [1., 1.],\n",
       "       [1., 1.],\n",
       "       [0., 0.],\n",
       "       [1., 1.],\n",
       "       [0., 0.],\n",
       "       [0., 0.],\n",
       "       [1., 1.]])"
      ]
     },
     "execution_count": 119,
     "metadata": {},
     "output_type": "execute_result"
    }
   ],
   "source": [
    "w1,w2=train(x,y,3,10000)\n",
    "np.concatenate((np.round(h(x,w1,w2,True)),y),axis=1)"
   ]
  }
 ],
 "metadata": {
  "kernelspec": {
   "display_name": "Python 3",
   "language": "python",
   "name": "python3"
  },
  "language_info": {
   "codemirror_mode": {
    "name": "ipython",
    "version": 3
   },
   "file_extension": ".py",
   "mimetype": "text/x-python",
   "name": "python",
   "nbconvert_exporter": "python",
   "pygments_lexer": "ipython3",
   "version": "3.6.8"
  }
 },
 "nbformat": 4,
 "nbformat_minor": 2
}
